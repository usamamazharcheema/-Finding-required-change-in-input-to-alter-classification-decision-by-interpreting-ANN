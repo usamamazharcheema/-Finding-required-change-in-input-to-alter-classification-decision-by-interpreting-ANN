{
  "nbformat": 4,
  "nbformat_minor": 0,
  "metadata": {
    "accelerator": "GPU",
    "colab": {
      "name": "For Demo no hidden layer.ipynb",
      "provenance": [],
      "collapsed_sections": []
    },
    "kernelspec": {
      "display_name": "Python 3",
      "language": "python",
      "name": "python3"
    },
    "language_info": {
      "codemirror_mode": {
        "name": "ipython",
        "version": 3
      },
      "file_extension": ".py",
      "mimetype": "text/x-python",
      "name": "python",
      "nbconvert_exporter": "python",
      "pygments_lexer": "ipython3",
      "version": "3.6.12"
    }
  },
  "cells": [
    {
      "cell_type": "code",
      "metadata": {
        "id": "ABZyz2iB-1zW"
      },
      "source": [
        "# pip install tensorflow\n",
        "# !pip install pyyaml h5py  # Required to save models in HDF5 format"
      ],
      "execution_count": null,
      "outputs": []
    },
    {
      "cell_type": "code",
      "metadata": {
        "id": "4GVo28U2-1zh"
      },
      "source": [
        "import os\n",
        "import tensorflow as tf\n",
        "from tensorflow import keras\n",
        "import matplotlib.pyplot as plt\n",
        "%matplotlib inline\n",
        "import numpy as np"
      ],
      "execution_count": null,
      "outputs": []
    },
    {
      "cell_type": "code",
      "metadata": {
        "id": "Ezz81YrE-1zj",
        "colab": {
          "base_uri": "https://localhost:8080/"
        },
        "outputId": "dcf85338-aadb-4858-e4bb-83fb877106e9"
      },
      "source": [
        "(X_train, y_train), (X_test, y_test)= keras.datasets.mnist.load_data()\n",
        "print(len(X_train))\n",
        "# Normalising input values\n",
        "X_train= X_train / 255\n",
        "X_test= X_test / 255"
      ],
      "execution_count": null,
      "outputs": [
        {
          "output_type": "stream",
          "text": [
            "Downloading data from https://storage.googleapis.com/tensorflow/tf-keras-datasets/mnist.npz\n",
            "11493376/11490434 [==============================] - 0s 0us/step\n",
            "60000\n"
          ],
          "name": "stdout"
        }
      ]
    },
    {
      "cell_type": "code",
      "metadata": {
        "colab": {
          "base_uri": "https://localhost:8080/",
          "height": 307
        },
        "id": "gZkpy44v-1zl",
        "outputId": "b1ada361-3072-42c0-8301-5328fd20c373"
      },
      "source": [
        "X_test_single=X_test[4]#[4]\n",
        "from matplotlib import pyplot as plt\n",
        "\n",
        "print('Input image is ')\n",
        "plt.matshow(X_test_single)"
      ],
      "execution_count": null,
      "outputs": [
        {
          "output_type": "stream",
          "text": [
            "Input image is \n"
          ],
          "name": "stdout"
        },
        {
          "output_type": "execute_result",
          "data": {
            "text/plain": [
              "<matplotlib.image.AxesImage at 0x7ff8768beb10>"
            ]
          },
          "metadata": {
            "tags": []
          },
          "execution_count": 4
        },
        {
          "output_type": "display_data",
          "data": {
            "image/png": "[encoded data removed]",
            "text/plain": [
              "<Figure size 288x288 with 1 Axes>"
            ]
          },
          "metadata": {
            "tags": [],
            "needs_background": "light"
          }
        }
      ]
    },
    {
      "cell_type": "code",
      "metadata": {
        "id": "bguu0Jzt-1zq"
      },
      "source": [
        "X_train_flattened= X_train.reshape(len(X_train), 28*28)\n",
        "X_test_flattened= X_test.reshape(len(X_test), 28*28)\n",
        "X_test_single_flattened= X_test_single.reshape(1, 28*28)"
      ],
      "execution_count": null,
      "outputs": []
    },
    {
      "cell_type": "code",
      "metadata": {
        "colab": {
          "base_uri": "https://localhost:8080/"
        },
        "id": "Gf-S5WbL-1zt",
        "outputId": "a2d97d5f-0c68-487b-bcb6-b98f96a11677"
      },
      "source": [
        "from keras.utils.vis_utils import plot_model\n",
        "from tensorflow.keras.constraints import NonNeg , MinMaxNorm #NonNeg #max_norm\n",
        "\n",
        "model= keras.Sequential([keras.layers.Dense(10, input_shape = (784,), activation =\"sigmoid\")])\n",
        "model.compile(\n",
        "    optimizer='adam',\n",
        "    loss='sparse_categorical_crossentropy',\n",
        "    metrics=['accuracy']\n",
        "    )\n",
        "\n",
        "model.fit(X_train_flattened, y_train, epochs=5) #X is the input, Y is the label of input"
      ],
      "execution_count": null,
      "outputs": [
        {
          "output_type": "stream",
          "text": [
            "Epoch 1/5\n",
            "1875/1875 [==============================] - 6s 2ms/step - loss: 0.4715 - accuracy: 0.8756\n",
            "Epoch 2/5\n",
            "1875/1875 [==============================] - 4s 2ms/step - loss: 0.3037 - accuracy: 0.9151\n",
            "Epoch 3/5\n",
            "1875/1875 [==============================] - 4s 2ms/step - loss: 0.2838 - accuracy: 0.9202\n",
            "Epoch 4/5\n",
            "1875/1875 [==============================] - 4s 2ms/step - loss: 0.2731 - accuracy: 0.9240\n",
            "Epoch 5/5\n",
            "1875/1875 [==============================] - 4s 2ms/step - loss: 0.2666 - accuracy: 0.9256\n"
          ],
          "name": "stdout"
        },
        {
          "output_type": "execute_result",
          "data": {
            "text/plain": [
              "<tensorflow.python.keras.callbacks.History at 0x7ff870463490>"
            ]
          },
          "metadata": {
            "tags": []
          },
          "execution_count": 6
        }
      ]
    },
    {
      "cell_type": "code",
      "metadata": {
        "colab": {
          "base_uri": "https://localhost:8080/"
        },
        "id": "RvKzg8UE-1zu",
        "outputId": "50341f8b-c08d-4e2f-b9cb-2449b39ea0c2"
      },
      "source": [
        "model.evaluate(X_test_flattened, y_test)"
      ],
      "execution_count": null,
      "outputs": [
        {
          "output_type": "stream",
          "text": [
            "313/313 [==============================] - 1s 2ms/step - loss: 0.2664 - accuracy: 0.9261\n"
          ],
          "name": "stdout"
        },
        {
          "output_type": "execute_result",
          "data": {
            "text/plain": [
              "[0.2663646936416626, 0.9261000156402588]"
            ]
          },
          "metadata": {
            "tags": []
          },
          "execution_count": 7
        }
      ]
    },
    {
      "cell_type": "code",
      "metadata": {
        "colab": {
          "base_uri": "https://localhost:8080/"
        },
        "id": "DTIiiZZx-1zv",
        "outputId": "d08f6ce0-b5f2-44be-854b-d7e72f2376f8"
      },
      "source": [
        "y_predicted = model.predict(X_test_single_flattened)\n",
        "\n",
        "print('The initial prediction of input digit is ' + str(np.argmax(y_predicted[0])))"
      ],
      "execution_count": null,
      "outputs": [
        {
          "output_type": "stream",
          "text": [
            "The initial prediction of input digit is 4\n"
          ],
          "name": "stdout"
        }
      ]
    },
    {
      "cell_type": "markdown",
      "metadata": {
        "id": "79BIWu1N-1z3"
      },
      "source": [
        "# Finding layer weights and bias\n"
      ]
    },
    {
      "cell_type": "code",
      "metadata": {
        "id": "FU3j8yhU-1z4"
      },
      "source": [
        "final_layer_weights = model.layers[0].get_weights()[0] #weights from hidden layer to output\n",
        "final_layer_bias = model.layers[0].get_weights()[1] #weights from hidden layer to output\n"
      ],
      "execution_count": null,
      "outputs": []
    },
    {
      "cell_type": "code",
      "metadata": {
        "colab": {
          "base_uri": "https://localhost:8080/",
          "height": 357
        },
        "id": "nZ8c3BZMIGW7",
        "outputId": "d200d589-a021-4a6d-e714-d641eeb7dd35"
      },
      "source": [
        "# getting predicted values when image is of digit 9\n",
        "X_test_single_CustomDigit=X_test[16]\n",
        "plt.matshow(X_test_single_CustomDigit)\n",
        "\n",
        "y_predicted_whenCustomDigit = model.predict(X_test_single_CustomDigit.reshape(1, 28*28)) # X_test_flattened has 10000 images so there are 10000 predictions\n",
        "print('probabilities of predicted digits')\n",
        "print(y_predicted_whenCustomDigit)\n",
        "print(' ')\n",
        "np.argmax(y_predicted_whenCustomDigit[0])\n",
        "\n",
        "TargetDigitIndex = int(np.argmax(y_predicted_whenCustomDigit[0]))\n",
        "print('the target digit is ' + str(TargetDigitIndex))"
      ],
      "execution_count": null,
      "outputs": [
        {
          "output_type": "stream",
          "text": [
            "probabilities of predicted digits\n",
            "[[8.6502722e-03 2.3418154e-07 3.1500150e-02 8.9525804e-03 6.7962646e-01\n",
            "  6.1257356e-03 2.4847502e-03 7.2131717e-01 3.7315387e-01 9.9030030e-01]]\n",
            " \n",
            "the target digit is 9\n"
          ],
          "name": "stdout"
        },
        {
          "output_type": "display_data",
          "data": {
            "image/png": "[encoded data removed]",
            "text/plain": [
              "<Figure size 288x288 with 1 Axes>"
            ]
          },
          "metadata": {
            "tags": [],
            "needs_background": "light"
          }
        }
      ]
    },
    {
      "cell_type": "markdown",
      "metadata": {
        "id": "wXFr4sX2-1z4"
      },
      "source": [
        "# Function for decomposing outputs to find new inputs"
      ]
    },
    {
      "cell_type": "code",
      "metadata": {
        "id": "YHYmfENT-1z4"
      },
      "source": [
        "def get_percentages(weights, bias, current_layer, layer_index, previous_layer):\n",
        "    df = pd.DataFrame(columns = ['neuron_value', 'neuron_percentage'])\n",
        "    distribution_neuron_id=TargetDigitIndex  # index of target digit.\n",
        "\n",
        "    ''' setting goal output to output of custom digit. previously we were setting goal output by ourselves which possibly might be out of range. ''' \n",
        "    goalOutput = y_predicted_whenCustomDigit[0]\n",
        "    new_values_combined=[]\n",
        "\n",
        "    for hidden_neuron_index in range(len(current_layer)):\n",
        "        df=df[0:0] #clearing df\n",
        "\n",
        "        if layer_index == 0:\n",
        "            if hidden_neuron_index!=distribution_neuron_id:\n",
        "                continue\n",
        "\n",
        "        for i in range(len(previous_layer)):\n",
        "            df.loc[len(df)] = 0\n",
        "            df.iloc[i]['neuron_value'] = (previous_layer[i] * weights[i][hidden_neuron_index]) + bias[hidden_neuron_index]\n",
        "\n",
        "        Total = df['neuron_value'].sum()\n",
        "\n",
        "        #Finding percentages to compute hidden layer values\n",
        "        for i in range(len(previous_layer)):\n",
        "            if(Total==0):\n",
        "                df.iloc[i]['neuron_percentage'] = 0\n",
        "            else:\n",
        "                df.iloc[i]['neuron_percentage'] = df.iloc[i]['neuron_value'] / Total\n",
        "\n",
        "        for i in range(len(previous_layer)):\n",
        "            if layer_index == 0:\n",
        "                #decomposition according to sigmoid function\n",
        "                new_values_combined.append(previous_layer[i] - (((current_layer[hidden_neuron_index] - goalOutput[hidden_neuron_index]) * df.iloc[i]['neuron_percentage']) / (goalOutput[hidden_neuron_index] * (1 - goalOutput[hidden_neuron_index]) * weights[i][hidden_neuron_index])))\n",
        "\n",
        "    if layer_index == 0:\n",
        "        new_values=new_values_combined\n",
        "\n",
        "    return df,new_values\n",
        "\n",
        "    "
      ],
      "execution_count": null,
      "outputs": []
    },
    {
      "cell_type": "markdown",
      "metadata": {
        "id": "3QpmwzqS-1z_"
      },
      "source": [
        "# Finding new hidden layer values\n"
      ]
    },
    {
      "cell_type": "code",
      "metadata": {
        "id": "CD8HLJpc-10J",
        "scrolled": false
      },
      "source": [
        "import pandas as pd\n",
        "\n",
        "all_layers=[]\n",
        "all_layers.append(y_predicted[0]) # Final Layer\n",
        "all_layers.append(X_test_single_flattened[0]) # Inputs\n",
        "\n",
        "for layer_index, layer_values in enumerate(all_layers):\n",
        "    if layer_index == 0:\n",
        "        df,new_final_inputs = get_percentages(final_layer_weights,final_layer_bias, layer_values, layer_index, all_layers[layer_index+1])\n",
        "    else:\n",
        "        break"
      ],
      "execution_count": null,
      "outputs": []
    },
    {
      "cell_type": "code",
      "metadata": {
        "id": "ONWo_vCJjcrU"
      },
      "source": [
        "result=new_final_inputs # safe keeping variable"
      ],
      "execution_count": null,
      "outputs": []
    },
    {
      "cell_type": "code",
      "metadata": {
        "colab": {
          "base_uri": "https://localhost:8080/"
        },
        "id": "f1eg3dXC-10K",
        "outputId": "09d1427b-b58c-4e06-b1e9-292a360c8ab0"
      },
      "source": [
        "new_final_inputs = result\n",
        "\n",
        "pppp = [0 if i < 0 else i for i in new_final_inputs] # removing -ve values from new inputs\n",
        "new_final_inputs= pppp\n",
        "\n",
        "\"\"\"\n",
        "converting new final inputs to image matrix and displaying the image\n",
        "\"\"\"\n",
        "\n",
        "arr = np.array(new_final_inputs)\n",
        "shape = (28, 28)\n",
        "\n",
        "plt.matshow(arr.reshape( shape ))\n",
        "print('updated image after decomposition')"
      ],
      "execution_count": null,
      "outputs": [
        {
          "output_type": "stream",
          "text": [
            "updated image after decomposition\n"
          ],
          "name": "stdout"
        },
        {
          "output_type": "display_data",
          "data": {
            "image/png": "[encoded data removed]",
            "text/plain": [
              "<Figure size 288x288 with 1 Axes>"
            ]
          },
          "metadata": {
            "tags": [],
            "needs_background": "light"
          }
        }
      ]
    },
    {
      "cell_type": "code",
      "metadata": {
        "colab": {
          "base_uri": "https://localhost:8080/"
        },
        "id": "U6uFmkjs-10K",
        "outputId": "8d69ac0e-176d-4113-a42f-a48056ec4682"
      },
      "source": [
        "\"\"\"\n",
        "passing new final inputs through prediction algorithm and checking the results\n",
        "\"\"\"\n",
        "x = np.array(new_final_inputs)\n",
        "new_final_inputs_flat= x.reshape(1, 28*28)\n",
        "\n",
        "y_verify_decomposed = model.predict(new_final_inputs_flat)\n",
        "print(y_verify_decomposed)\n",
        "print('Prediction result image after decomposition')\n",
        "\n",
        "print('the prediction of updated/decomposed image is ' + str(np.argmax(y_verify_decomposed)))"
      ],
      "execution_count": null,
      "outputs": [
        {
          "output_type": "stream",
          "text": [
            "[[5.5832079e-05 3.7773108e-18 1.6888238e-04 2.3780955e-09 2.8175955e-06\n",
            "  3.2511668e-08 1.1806716e-03 1.4512050e-04 7.6156152e-06 9.9994779e-01]]\n",
            "Prediction result image after decomposition\n",
            "the prediction of updated/decomposed image is 9\n"
          ],
          "name": "stdout"
        }
      ]
    }
  ]
}